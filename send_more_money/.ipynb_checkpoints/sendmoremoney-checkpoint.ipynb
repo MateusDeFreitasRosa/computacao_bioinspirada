{
 "cells": [
  {
   "cell_type": "markdown",
   "id": "027897cf-69b3-4328-9eef-de665fccb579",
   "metadata": {},
   "source": [
    "## Explorando a função de crossover\n",
    "\n",
    "> O problema tem uma restrição de que cada letra deve ter um único número correspondente. Nesse caso o cruzamento entre dois pais devem respeitar essa restrição"
   ]
  },
  {
   "cell_type": "code",
   "execution_count": 1,
   "id": "149c574c-3121-4067-bb87-979e890d52bf",
   "metadata": {},
   "outputs": [],
   "source": [
    "import numpy as np"
   ]
  },
  {
   "cell_type": "code",
   "execution_count": 2,
   "id": "204a0de1-285c-40af-b84d-a01f37351b04",
   "metadata": {},
   "outputs": [],
   "source": [
    "phrase = 'SENDMOREMONEY'\n",
    "\n",
    "first_factor = 'SEND'\n",
    "second_factor = 'MORE'\n",
    "result_factor = 'MONEY'\n"
   ]
  },
  {
   "cell_type": "code",
   "execution_count": 26,
   "id": "22511814-e6db-4989-a64d-a790b85219f7",
   "metadata": {},
   "outputs": [],
   "source": [
    "## Define alguns parametros importantes para o algoritmo genetico\n",
    "\n",
    "pop_size = 500\n",
    "generation = 100\n",
    "n_parents_survive = 25"
   ]
  },
  {
   "cell_type": "code",
   "execution_count": 27,
   "id": "1d97b269-b088-41f5-88d7-287ac7a927d3",
   "metadata": {},
   "outputs": [
    {
     "data": {
      "text/plain": [
       "['Y', 'S', 'M', 'O', 'D', 'N', 'E', 'R']"
      ]
     },
     "execution_count": 27,
     "metadata": {},
     "output_type": "execute_result"
    }
   ],
   "source": [
    "## Este template servirá entendermos quais números em um gene referenciam cada letra.\n",
    "template = list(set(list(phrase)))\n",
    "template"
   ]
  },
  {
   "cell_type": "code",
   "execution_count": 28,
   "id": "5418a681-ac8c-4a80-a3c7-7bf2cbed218c",
   "metadata": {},
   "outputs": [],
   "source": [
    "## Obtem qual o tamanho necessário para o gene:\n",
    "gene_lentgh = len(template)"
   ]
  },
  {
   "cell_type": "code",
   "execution_count": 29,
   "id": "750f7c37-176b-43ea-9724-176e9ef19a75",
   "metadata": {},
   "outputs": [
    {
     "data": {
      "text/plain": [
       "[0, 1, 2, 3, 4, 5, 6, 7, 8, 9]"
      ]
     },
     "execution_count": 29,
     "metadata": {},
     "output_type": "execute_result"
    }
   ],
   "source": [
    "# Este template define qual o universo possível de valores para o gene.\n",
    "template_gene = list(range(10))\n",
    "template_gene"
   ]
  },
  {
   "cell_type": "code",
   "execution_count": 30,
   "id": "e2354d82-6423-4bff-9d4d-aed7c44baede",
   "metadata": {},
   "outputs": [],
   "source": [
    "def generate_individuals(template_gene, gene_lenth, pop_size):\n",
    "    return np.random.choice(template_gene, size=(pop_size, gene_lentgh))"
   ]
  },
  {
   "cell_type": "code",
   "execution_count": 31,
   "id": "e599c6ce-2118-4c49-9dd9-ae3f829fbaa4",
   "metadata": {},
   "outputs": [],
   "source": [
    "def add_to_array_of_map(mp, key, array):\n",
    "    new_array_map = mp.copy()\n",
    "    for enum, arr in enumerate(array):\n",
    "        new_array_map[enum][key] = arr\n",
    "    return new_array_map "
   ]
  },
  {
   "cell_type": "code",
   "execution_count": 32,
   "id": "2e847d52-5cef-4515-8c77-a58619b1a8c1",
   "metadata": {},
   "outputs": [],
   "source": [
    "def fitness_function(population, template):\n",
    "    global first_factor, second_factor, result_factor\n",
    "    array_result = []\n",
    "    \n",
    "    for individual in population:\n",
    "        dict_gene = dict(zip(template, individual['gene']))\n",
    "        \n",
    "        valor_calculado = sum_array([first_factor, second_factor], dict_gene)\n",
    "        solucao_proposta = encoder_codification(result_factor, dict_gene)\n",
    "        array_result.append(abs(valor_calculado - solucao_proposta))\n",
    "    return array_result"
   ]
  },
  {
   "cell_type": "code",
   "execution_count": 33,
   "id": "b99474e8-bd1a-422e-8198-83626c502a82",
   "metadata": {},
   "outputs": [],
   "source": [
    "def roulette(array_fitness, n_parents):\n",
    "    scores = array_fitness.copy()\n",
    "    inverted_list = [max(scores) - score for score in scores]\n",
    "    # Encontre a soma das pontuações invertidas\n",
    "    total_inverted_score = sum(inverted_list)\n",
    "    # Calcule as proporções da roleta\n",
    "    proportions = [s / total_inverted_score for s in inverted_list]\n",
    "    #[print(\"{}: {:f}\".format(enum, a)) for enum, a in enumerate(proportions)]\n",
    "    selected_index = np.random.choice(len(scores), size=n_parents, p=proportions)\n",
    "    return selected_index"
   ]
  },
  {
   "cell_type": "code",
   "execution_count": 34,
   "id": "c37142e0-3619-4914-99d7-98deb7da4b83",
   "metadata": {},
   "outputs": [],
   "source": [
    "def select_random_couples(array_parents):\n",
    "    return np.random.choice(array_parents, size=2)"
   ]
  },
  {
   "cell_type": "code",
   "execution_count": 35,
   "id": "ab8ed6c6-b98f-4dc3-b0e0-b82a9029a443",
   "metadata": {},
   "outputs": [],
   "source": [
    "def simple_crossover(population, array_parents, pop_size, num_genes):\n",
    "    \n",
    "    children = []\n",
    "    for individual in range(pop_size):\n",
    "        ## Seleciona 2 pais para o cruzamento\n",
    "        parentes = select_random_couples(array_parents)\n",
    "        ## Define uma mascara de quais genes serão pegos entre o pai 1 e o pai 2\n",
    "        cross_mask = np.random.choice([0,1], size=num_genes)\n",
    "        ## Construi o filho baseado na mascara acima.\n",
    "        child = [population[parentes[father]]['gene'][enum]  for enum, father in enumerate(cross_mask)]\n",
    "        children.append(np.asarray(child))\n",
    "    return children"
   ]
  },
  {
   "cell_type": "code",
   "execution_count": 36,
   "id": "630e2838-cce5-48f0-aea6-2bd25532e907",
   "metadata": {},
   "outputs": [],
   "source": [
    "def find_duplicates(gene):\n",
    "    duplicates = []\n",
    "    for index in range(len(gene)):\n",
    "        if gene[index] in gene[:index]:\n",
    "            duplicates.append(index)\n",
    "    return duplicates"
   ]
  },
  {
   "cell_type": "code",
   "execution_count": 37,
   "id": "02803174-1408-409a-8e94-24122f33b323",
   "metadata": {},
   "outputs": [],
   "source": [
    "def mutation(children_array, template_gene):\n",
    "    gene_missings = 0\n",
    "    children_mutated = children_array.copy()\n",
    "    \n",
    "    for enum, child_gene in enumerate(children_array):\n",
    "        missing_genes = list(set(template_gene).difference(child_gene))\n",
    "        if missing_genes != []:\n",
    "            index_with_duplicated_genes = find_duplicates(child_gene)\n",
    "            for index in index_with_duplicated_genes:\n",
    "                select_gene_on_missin_gene = np.random.choice(missing_genes)\n",
    "                missing_genes.remove(select_gene_on_missin_gene)\n",
    "                children_mutated[enum][index] = select_gene_on_missin_gene\n",
    "    return children_mutated"
   ]
  },
  {
   "cell_type": "code",
   "execution_count": 38,
   "id": "89c870ed-7e4f-4386-b989-09e1f0a3ffcd",
   "metadata": {},
   "outputs": [],
   "source": [
    "def encoder_codification(word, dict_gene, int_encoder=True):\n",
    "    codification = [dict_gene[letter] for letter in str(word)]\n",
    "    if int_encoder:\n",
    "        return int(''.join(map(str, codification)))\n",
    "    return codification"
   ]
  },
  {
   "cell_type": "code",
   "execution_count": 39,
   "id": "924e0424-0567-485d-86f8-9c3dda10f9b3",
   "metadata": {},
   "outputs": [],
   "source": [
    "## Soma uma lista de listas, ou seja: Imagine que temos a seguinte lista para a soma ['SEND', 'MORE'], o objetivo é somar e estes dois fatores \n",
    "def sum_array(array, dict_gene, int_encoder=True):\n",
    "    result = 0\n",
    "    for factor in array:\n",
    "        codification = [dict_gene[letter] for letter in str(factor)]\n",
    "        codification_bs10 = int(''.join(map(str, codification)))\n",
    "        result +=codification_bs10\n",
    "        \n",
    "    if not int_encoder:\n",
    "        list_result_str = list(str(result).zfill(5))\n",
    "        list_result_int = [int(x) for x in list_result_str]\n",
    "        return list_result_int\n",
    "    return result"
   ]
  },
  {
   "cell_type": "code",
   "execution_count": 40,
   "id": "e378205a-c33b-492d-b091-b49a40a8a6f2",
   "metadata": {},
   "outputs": [],
   "source": [
    "def check_if_finish(array_fitness):\n",
    "    return np.asarray(array_fitness).min() == 0"
   ]
  },
  {
   "cell_type": "code",
   "execution_count": 41,
   "id": "14c708f5-304d-4eef-b5ba-a586374eefc5",
   "metadata": {},
   "outputs": [],
   "source": [
    "def decoder(population, template):\n",
    "    result = []\n",
    "    for individual in population:\n",
    "        dict_gene = dict(zip(template, individual['gene']))\n",
    "        invert_dict_gene = dict(zip(dict_gene.values() , dict_gene.keys()))\n",
    "        valor_calculado = sum_array(['SEND', 'MORE'], dict_gene, int_encoder=False)\n",
    "        \n",
    "        result_aux = []\n",
    "        for g in valor_calculado:\n",
    "            if g in invert_dict_gene.keys():\n",
    "                result_aux.append(invert_dict_gene[g])\n",
    "            else:\n",
    "                result_aux.append('_')\n",
    "        result.append(result_aux)\n",
    "    return result"
   ]
  },
  {
   "cell_type": "code",
   "execution_count": 77,
   "id": "a52cba0e-9fbf-492f-baf1-81665b1ad662",
   "metadata": {},
   "outputs": [],
   "source": [
    "def degree_of_convergence(population):\n",
    "    genes = np.asarray([individual['gene'] for individual in population])\n",
    "    total_genes = genes.shape[0]\n",
    "    unique_genes = np.unique(genes, axis=0).shape[0]\n",
    "    convergence = 1-(unique_genes / total_genes)\n",
    "    return convergence"
   ]
  },
  {
   "cell_type": "code",
   "execution_count": 83,
   "id": "3f52cf6b-875f-4dba-ba1a-6bd372740c8d",
   "metadata": {
    "scrolled": true,
    "tags": []
   },
   "outputs": [],
   "source": [
    "## Inicia a população com genes aleatórios.\n",
    "initial_population = generate_individuals(template_gene, gene_lentgh, pop_size)"
   ]
  },
  {
   "cell_type": "code",
   "execution_count": 85,
   "id": "43920a82-bfbd-45c6-b864-45317027eedf",
   "metadata": {
    "tags": []
   },
   "outputs": [
    {
     "name": "stdout",
     "output_type": "stream",
     "text": [
      "Epoch: 0 - Best result: 126 - Decoder: ['M', 'N', 'E', 'R', 'M'] - Convergence: 0.00\n",
      "Epoch: 1 - Best result: 65 - Decoder: ['M', 'O', 'M', 'S', 'O'] - Convergence: 0.01\n",
      "Epoch: 2 - Best result: 71 - Decoder: ['M', 'O', 'S', 'N', '_'] - Convergence: 0.04\n",
      "Epoch: 3 - Best result: 10 - Decoder: ['M', 'O', 'N', '_', 'Y'] - Convergence: 0.07\n",
      "Epoch: 4 - Best result: 39 - Decoder: ['M', 'O', 'Y', 'D', 'N'] - Convergence: 0.13\n",
      "Epoch: 5 - Best result: 0 - Decoder: ['M', 'O', 'N', 'E', 'Y'] - Convergence: 0.10\n"
     ]
    }
   ],
   "source": [
    "new_population = initial_population.copy()\n",
    "best_result_for_population = []\n",
    "for gen in range(generation):\n",
    "    ## Adiciona os genes iniciais em uma estrutura de map e salva no array population.\n",
    "    population = [{'gene': gene} for gene in new_population]\n",
    "    ## Obtém os resultados de cada gene.\n",
    "    array_fitness = fitness_function(population, template)\n",
    "    ## Junta as informações no array de map population.\n",
    "    population = add_to_array_of_map(population, 'score', array_fitness)  \n",
    "  \n",
    "    indexes = roulette(array_fitness, n_parents_survive)\n",
    "    children = simple_crossover(population, indexes, pop_size, gene_lentgh)\n",
    "    children = mutation(children, template_gene)\n",
    "    new_population = children.copy()\n",
    "    decoder_population_genes = decoder(population, template)\n",
    "    population = add_to_array_of_map(population, 'decoder', decoder_population_genes)\n",
    "    \n",
    "    best_result = np.asarray(array_fitness).min()\n",
    "    argmin = np.asarray(array_fitness).argmin()\n",
    "    best_result_for_population.append(population[argmin])\n",
    "    decoder_best_result = population[argmin]['decoder']\n",
    "    convergence = degree_of_convergence(population)\n",
    "    \n",
    "    print('Epoch: {} - Best result: {} - Decoder: {} - Convergence: {:.2f}'.format(gen, best_result, decoder_best_result, convergence))\n",
    "    if best_result == 0:\n",
    "        break"
   ]
  }
 ],
 "metadata": {
  "kernelspec": {
   "display_name": "Python 3 (ipykernel)",
   "language": "python",
   "name": "python3"
  },
  "language_info": {
   "codemirror_mode": {
    "name": "ipython",
    "version": 3
   },
   "file_extension": ".py",
   "mimetype": "text/x-python",
   "name": "python",
   "nbconvert_exporter": "python",
   "pygments_lexer": "ipython3",
   "version": "3.11.2"
  }
 },
 "nbformat": 4,
 "nbformat_minor": 5
}
